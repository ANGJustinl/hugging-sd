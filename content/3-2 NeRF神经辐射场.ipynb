{
 "cells": [
  {
   "cell_type": "markdown",
   "source": [
    "# 3-2 NeRF神经辐射场\n",
    "(目录)"
   ],
   "metadata": {
    "collapsed": false
   }
  },
  {
   "cell_type": "markdown",
   "source": [
    "## 0 章节目标\n",
    "- 了解外观和形状表征，了解新视角合成任务\n",
    "- 理解神经渲染原理（NeRF）"
   ],
   "metadata": {
    "collapsed": false
   }
  },
  {
   "cell_type": "markdown",
   "source": [
    "## 1 外观和形状表征\n",
    "世界如此纷繁复杂？该以何种形式表示它们呢？我们可以将我们看到的世界解耦为两种形式，采用的是外观（appearance）和形状（shape/geometry）来表示一个物体或者场景。其中外观又细分为光照、材质等等。实质上这样的方式就是将整个世界按照这样的规则进行参数化。计算机视觉中则是以简单粗暴的rgb色彩值来理解世界。\n",
    "\n",
    "他们之间通过渲染和反渲染的方式进行转换。如下图所示，[来源](https://www.bilibili.com/video/BV1d34y1n7fn/?spm_id_from=333.788&vd_source=f1a43cfabe61c271b4df05136a41d18c)\n",
    "\n",
    "<img alt=\"介绍\" height=\"360\" src=\"images/3-2_1-rendering-and-inverse-rendering.png\" width=\"700\"/>\n",
    "\n",
    "\n",
    "其中渲染依赖于形状和外观的表征，并且这个过程需要可微。而反渲染可以粗浅地理解为通过同一个物体的多张不同角度的rgb图片反推出物体的几何或者外观参数。渲染是一个确定的过程，而反渲染目前的很多方法都是通过神经网络来猜。\n",
    "\n",
    "<img alt=\"渲染过程\" height=\"360\" src=\"images/3-2_2-rendering.png\" width=\"500\"/>\n",
    "\n",
    "### 1.1 形状表征\n",
    "目前主流的如下图所示。其中，前三种方式称为显式的表征方式，它们一般便于编辑但消耗资源或者重建困难；后两种方式称为隐式的表征方式，它们一般重建方便但不易编辑，后两种方式都是通过运用神经网络来预测的，一个预测[符号距离函数](https://en.wikipedia.org/wiki/Signed_distance_function)的值，一个预测密度可见性的值。\n",
    "\n",
    "<img alt=\"渲染过程\" height=\"650\" src=\"images/3-1_1-shape-representation.png\" width=\"1000\"/>\n",
    "\n",
    "### 1.2 外观表征\n",
    "外观是个很大的概念，一般又分为外观又细分为光照、材质等等。在我们得到物体和场景的几何和形状信息之后，简单来说，之后的流程可以简化成我们是把物体材质的信息对应贴在几何体上面，如下图所示。而nerf的方式则是将这个过程统一起来得到RGB的颜色，在接下来我们将详细介绍。\n",
    "\n"
   ],
   "metadata": {
    "collapsed": false
   }
  },
  {
   "cell_type": "markdown",
   "source": [
    "## 2 神经辐射场NeRF\n",
    "nerf做的事情实质就是把形状和外观直接通过rgb值表示出来，不需要走传统图形学的那一套pipeline，这既是它的优点（可以很方便的表征场景）也是他的缺点（无法融入管线，使用不方便，编辑困难）。\n",
    "首先，我们先直观的感受下nerf做的事情。\n",
    "\n",
    "\n",
    "然后可以看下nerf的framework。\n",
    "\n",
    "![nerf network](./images/3-2_3-nerf1.png)\n",
    "其实它做的就是输入一些视角的图片，然后丢到神经网络中去预测新视角的图片。\n",
    "\n",
    "具体而言就是输入一些空间中的坐标点的位置和方向角信息，之后通过神经网络来预测这些点的不透明度的值以及该点的颜色，最后通过rendering的方法来得到每个像素的颜色值，很多个像素最终组成整张图片的rgb值。\n",
    "![nerf network](./images/3-2_4-nerf2.png)\n",
    "\n",
    "知道这些之后基本就可以理解后面章节的内容了，如果想进一步了解原理的东西，可以参考以下资料：\n",
    "\n",
    "> [NeRF: Representing Scenes as Neural Radiance Fields for View Synthesis](https://arxiv.org/pdf/2003.08934.pdf)\n",
    ">\n",
    "> [NeRF](https://www.matthewtancik.com/nerf)\n",
    ">\n",
    "> [都2022年了，我不允许你还不懂NeRF](https://zhuanlan.zhihu.com/p/569843149)\n",
    ">\n",
    "> [NeRF代码解读-相机参数与坐标系变换](https://zhuanlan.zhihu.com/p/593204605)\n"
   ],
   "metadata": {
    "collapsed": false
   }
  },
  {
   "cell_type": "markdown",
   "source": [
    "## 3 代码演示"
   ],
   "metadata": {
    "collapsed": false
   }
  },
  {
   "cell_type": "markdown",
   "source": [
    "## 4 拓展"
   ],
   "metadata": {
    "collapsed": false
   }
  },
  {
   "cell_type": "code",
   "execution_count": null,
   "outputs": [],
   "source": [],
   "metadata": {
    "collapsed": false,
    "ExecuteTime": {
     "start_time": "2023-09-14T15:15:44.107601Z",
     "end_time": "2023-09-14T15:15:44.112558Z"
    }
   }
  }
 ],
 "metadata": {
  "kernelspec": {
   "display_name": "Python 3",
   "language": "python",
   "name": "python3"
  },
  "language_info": {
   "codemirror_mode": {
    "name": "ipython",
    "version": 2
   },
   "file_extension": ".py",
   "mimetype": "text/x-python",
   "name": "python",
   "nbconvert_exporter": "python",
   "pygments_lexer": "ipython2",
   "version": "2.7.6"
  }
 },
 "nbformat": 4,
 "nbformat_minor": 0
}
