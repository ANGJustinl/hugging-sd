{
 "cells": [
  {
   "cell_type": "markdown",
   "id": "e30b58de-63f4-4e76-b94e-cff5f51ed23b",
   "metadata": {},
   "source": [
    "# 2-2 图生图"
   ]
  },
  {
   "cell_type": "markdown",
   "id": "a0d101ef-ace6-4886-b8eb-431359bbc56e",
   "metadata": {},
   "source": [
    "图生图 (Image-to-Image)是将初始图像转换成与目标图像特征相匹配的任务。根据用户传入的提示信息和初始图像生成新的图像。使用图生图模型可以进行图像进行编辑和增强。 \n",
    "\n",
    "图生图模型有广泛的应用，包括但不限于以下几个方面：\n",
    "\n",
    "- 风格迁移（Style transfer）：图像到图像技术中最受欢迎的用例之一。将一个图像的艺术风格应用到另一个图像上，以创建艺术性图像。这包括将一幅画的风格应用到一张照片上，创造出具有艺术感的图像。\n",
    "- 图像修复（Image inpainting）：广泛用于摄影编辑中，用于去除不需要的物体，例如电线杆、电线或传感器上的灰尘等。\n",
    "- 图像上色（Image colorization）：将旧的黑白图像添加色彩。\n",
    "- 图像超分辨率（Super resolution）：将低分辨率图像转换为高分辨率图像，以改善图像质量。这在图像增强和图像重建中很有用。\n",
    "\n",
    "Huggingface的diffusers模块集成了基于[SDEdit(2021)](https://arxiv.org/abs/2108.01073)扩散降噪机制实现的图生图模型。"
   ]
  }
 ],
 "metadata": {
  "kernelspec": {
   "display_name": "Python 3 (ipykernel)",
   "language": "python",
   "name": "python3"
  },
  "language_info": {
   "codemirror_mode": {
    "name": "ipython",
    "version": 3
   },
   "file_extension": ".py",
   "mimetype": "text/x-python",
   "name": "python",
   "nbconvert_exporter": "python",
   "pygments_lexer": "ipython3",
   "version": "3.9.12"
  }
 },
 "nbformat": 4,
 "nbformat_minor": 5
}
