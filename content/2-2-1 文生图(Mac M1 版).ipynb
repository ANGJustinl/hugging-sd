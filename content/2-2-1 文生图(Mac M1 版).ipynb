{
 "cells": [
  {
   "cell_type": "markdown",
   "source": [
    "## 1. 准备运行环境\n",
    "我们建议您使用一个新的虚拟环境运行以下下代码，以免和您既有工程产生冲突。另行，以下内容是基于Mac M系列芯片，请确保您使用的电脑非Intel 的CPU。"
   ],
   "metadata": {
    "collapsed": false
   },
   "id": "3cc48b4ea5f0e5ed"
  },
  {
   "cell_type": "code",
   "execution_count": 1,
   "outputs": [
    {
     "name": "stdout",
     "output_type": "stream",
     "text": [
      "Note: you may need to restart the kernel to use updated packages.\n"
     ]
    }
   ],
   "source": [
    "%pip install -q \"diffusers\" \"ipywidgets\" \"transformers >= 4.31\" -i https://pypi.tuna.tsinghua.edu.cn/simple"
   ],
   "metadata": {
    "collapsed": false,
    "ExecuteTime": {
     "end_time": "2023-09-30T07:42:18.991605Z",
     "start_time": "2023-09-30T07:40:24.460654Z"
    }
   },
   "id": "82a52c4fc1ff09a0"
  },
  {
   "cell_type": "markdown",
   "source": [
    "> 如果安装速度比较慢，可以使用 -i 国内源进行安装，例如：\n",
    "> pip install diffusers -i https://pypi.tuna.tsinghua.edu.cn/simple"
   ],
   "metadata": {
    "collapsed": false
   },
   "id": "973a4822f3e2be1b"
  },
  {
   "cell_type": "markdown",
   "source": [
    "## 2. 导入`warnings`库，可以忽略运行中尝试的一些井道信息，这些是警告，而不会影响我们代码的运行"
   ],
   "metadata": {
    "collapsed": false
   },
   "id": "4a3d940e59e2d74b"
  },
  {
   "cell_type": "code",
   "execution_count": 2,
   "outputs": [],
   "source": [
    "import warnings\n",
    "warnings.filterwarnings('ignore')"
   ],
   "metadata": {
    "collapsed": false,
    "ExecuteTime": {
     "end_time": "2023-09-30T07:48:02.232020Z",
     "start_time": "2023-09-30T07:48:02.179372Z"
    }
   },
   "id": "aa885fb41cf8af2e"
  },
  {
   "cell_type": "code",
   "execution_count": 2,
   "outputs": [],
   "source": [],
   "metadata": {
    "collapsed": false,
    "ExecuteTime": {
     "end_time": "2023-09-30T07:48:02.292792Z",
     "start_time": "2023-09-30T07:48:02.181167Z"
    }
   },
   "id": "6af15c3ad359010d"
  },
  {
   "cell_type": "code",
   "execution_count": null,
   "outputs": [],
   "source": [],
   "metadata": {
    "collapsed": false
   },
   "id": "d7af9b355d4e2168"
  }
 ],
 "metadata": {
  "kernelspec": {
   "display_name": "Python 3",
   "language": "python",
   "name": "python3"
  },
  "language_info": {
   "codemirror_mode": {
    "name": "ipython",
    "version": 2
   },
   "file_extension": ".py",
   "mimetype": "text/x-python",
   "name": "python",
   "nbconvert_exporter": "python",
   "pygments_lexer": "ipython2",
   "version": "2.7.6"
  }
 },
 "nbformat": 4,
 "nbformat_minor": 5
}
