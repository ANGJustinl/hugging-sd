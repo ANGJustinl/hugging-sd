{
 "cells": [
  {
   "cell_type": "markdown",
   "source": [
    "# 3-3 文生3D\n",
    "(目录)"
   ],
   "metadata": {
    "collapsed": false
   }
  },
  {
   "cell_type": "markdown",
   "source": [
    "# 0 章节目标\n",
    "- 理解Dreamfusion、zero123原理，理解文生3D原理\n",
    "- 会运用文生3D的能力到自己项目中"
   ],
   "metadata": {
    "collapsed": false
   }
  },
  {
   "cell_type": "markdown",
   "source": [
    "# 1 隐式生成方法\n",
    "在[3-2 NeRF神经辐射场](./3-2%20NeRF神经辐射场.ipynb)章节我们详细介绍了nerf的原理以及使用，在此基础上，我们将在这个章节介绍一下分别通过隐式生成方法和显式生成方法来带大家了解3D生成的主流方法，以便于大家能快速入门并掌握基本的用法，同时也以此了解行业发展方向。\n",
    "\n",
    "首先我们了解隐式生成方法的生成方法，在[3-2 NeRF神经辐射场](./3-2%20NeRF神经辐射场.ipynb)中我们有详细介绍五种目前主流的三维表征方法，后两种即[SDF](https://en.wikipedia.org/wiki/Signed_distance_function)和[NeRF](https://en.wikipedia.org/wiki/Neural_radiance_field)是隐式的表征方法，显然隐式生成方法的生成方法就是利用sdf和nerf的表征来生成三维的物体和场景。本章节将主要讨论的是基于nerf的隐式生成方法，基于sdf的会简单介绍。"
   ],
   "metadata": {
    "collapsed": false
   }
  },
  {
   "cell_type": "markdown",
   "source": [
    "## 1-1 dreamfusion\n",
    "首先，dreamfusion论文来自[DreamFusion: Text-to-3D using 2D Diffusion](https://arxiv.org/abs/2209.14988)，看下效果。\n"
   ],
   "metadata": {
    "collapsed": false
   }
  },
  {
   "cell_type": "markdown",
   "source": [
    "# 2 显式生成方法"
   ],
   "metadata": {
    "collapsed": false
   }
  },
  {
   "cell_type": "markdown",
   "source": [
    "# 3 xianshi"
   ],
   "metadata": {
    "collapsed": false
   }
  },
  {
   "cell_type": "code",
   "execution_count": null,
   "outputs": [],
   "source": [],
   "metadata": {
    "collapsed": false
   }
  }
 ],
 "metadata": {
  "kernelspec": {
   "display_name": "Python 3",
   "language": "python",
   "name": "python3"
  },
  "language_info": {
   "codemirror_mode": {
    "name": "ipython",
    "version": 2
   },
   "file_extension": ".py",
   "mimetype": "text/x-python",
   "name": "python",
   "nbconvert_exporter": "python",
   "pygments_lexer": "ipython2",
   "version": "2.7.6"
  }
 },
 "nbformat": 4,
 "nbformat_minor": 0
}
