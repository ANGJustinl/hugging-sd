{
 "cells": [
  {
   "cell_type": "markdown",
   "source": [
    "# 3-3 文生3D\n",
    "(目录)"
   ],
   "metadata": {
    "collapsed": false
   }
  },
  {
   "cell_type": "markdown",
   "source": [
    "# 0 章节目标\n",
    "- 理解Dreamfusion、zero123原理，理解文生3D原理\n",
    "- 会运用文生3D的能力到自己项目中"
   ],
   "metadata": {
    "collapsed": false
   }
  },
  {
   "cell_type": "markdown",
   "source": [
    "# 1 显式生成方法\n",
    "显示生成方法中有[3-1](./3-1%20背景及应用.md)中所介绍的[point-e](https://github.com/openai/point-e)、[shape-e](https://github.com/openai/shap-e)等工作。\n",
    "\n",
    "\n",
    "<table>\n",
    "    <tbody>\n",
    "        <tr>\n",
    "            <td align=\"center\">\n",
    "                <img src=\"https://github.com/openai/shap-e/blob/main/samples/a_chair_that_looks_like_an_avocado/2.gif\" alt=\"A chair that looks like an avocado\">\n",
    "            </td>\n",
    "            <td align=\"center\">\n",
    "                <img src=\"https://github.com/openai/shap-e/blob/main/samples/an_airplane_that_looks_like_a_banana/3.gif\" alt=\"An airplane that looks like a banana\">\n",
    "            </td align=\"center\">\n",
    "            <td align=\"center\">\n",
    "                <img src=\"https://github.com/openai/shap-e/blob/main/samples/a_spaceship/0.gif\" alt=\"A spaceship\">\n",
    "            </td>\n",
    "        </tr>\n",
    "        <tr>\n",
    "            <td align=\"center\">A chair that looks<br>like an avocado</td>\n",
    "            <td align=\"center\">An airplane that looks<br>like a banana</td>\n",
    "            <td align=\"center\">A spaceship</td>\n",
    "        </tr>\n",
    "        <tr>\n",
    "            <td align=\"center\">\n",
    "                <img src=\"https://github.com/openai/shap-e/blob/main/samples/a_birthday_cupcake/3.gif\" alt=\"A birthday cupcake\">\n",
    "            </td>\n",
    "            <td align=\"center\">\n",
    "                <img src=\"https://github.com/openai/shap-e/blob/main/samples/a_chair_that_looks_like_a_tree/2.gif\" alt=\"A chair that looks like a tree\">\n",
    "            </td>\n",
    "            <td align=\"center\">\n",
    "                <img src=\"https://github.com/openai/shap-e/blob/main/samples/a_green_boot/3.gif\" alt=\"A green boot\">\n",
    "            </td>\n",
    "        </tr>\n",
    "        <tr>\n",
    "            <td align=\"center\">A birthday cupcake</td>\n",
    "            <td align=\"center\">A chair that looks<br>like a tree</td>\n",
    "            <td align=\"center\">A green boot</td>\n",
    "        </tr>\n",
    "        <tr>\n",
    "            <td align=\"center\">\n",
    "                <img src=\"https://github.com/openai/shap-e/blob/main/samples/a_penguin/1.gif\" alt=\"A penguin\">\n",
    "            </td>\n",
    "            <td align=\"center\">\n",
    "                <img src=\"https://github.com/openai/shap-e/blob/main/samples/ube_ice_cream_cone/3.gif\" alt=\"Ube ice cream cone\">\n",
    "            </td>\n",
    "            <td align=\"center\">\n",
    "                <img src=\"https://github.com/openai/shap-e/blob/main/samples/a_bowl_of_vegetables/2.gif\" alt=\"A bowl of vegetables\">\n",
    "            </td>\n",
    "        </tr>\n",
    "        <tr>\n",
    "            <td align=\"center\">A penguin</td>\n",
    "            <td align=\"center\">Ube ice cream cone</td>\n",
    "            <td align=\"center\">A bowl of vegetables</td>\n",
    "        </tr>\n",
    "    </tbody>\n",
    "<table>\n",
    "\n",
    "\n",
    "这种方式生成的3D物体，易于修改，但是可以看到渲染质量并不好。当隐式的表征特别是dreamfusion横空出世之后，3d生成方面的许多工作都围绕它来展开了。"
   ],
   "metadata": {
    "collapsed": false
   }
  },
  {
   "cell_type": "markdown",
   "source": [
    "# 2 隐式生成方法\n",
    "在[3-2 NeRF神经辐射场](./3-2%20NeRF神经辐射场.ipynb)章节我们详细介绍了nerf的原理以及使用，在此基础上，我们将在这个章节介绍一下分别通过隐式生成方法和显式生成方法来带大家了解3D生成的主流方法，以便于大家能快速入门并掌握基本的用法，同时也以此了解行业发展方向。\n",
    "\n",
    "首先我们了解隐式生成方法的生成方法，在[3-2 NeRF神经辐射场](./3-2%20NeRF神经辐射场.ipynb)中我们有详细介绍五种目前主流的三维表征方法，后两种即[SDF](https://en.wikipedia.org/wiki/Signed_distance_function)和[NeRF](https://en.wikipedia.org/wiki/Neural_radiance_field)是隐式的表征方法，显然隐式生成方法的生成方法就是利用sdf和nerf的表征来生成三维的物体和场景。本章节将主要讨论的是基于nerf的隐式生成方法，基于sdf的会简单介绍。\n"
   ],
   "metadata": {
    "collapsed": false
   }
  },
  {
   "cell_type": "markdown",
   "source": [
    "## 1-1 DreamFusion\n",
    "首先，dreamfusion论文来自[DreamFusion: Text-to-3D using 2D Diffusion](https://arxiv.org/abs/2209.14988)，看下效果。\n",
    "\n",
    "\"a raccoon astronaut holding his helmet\"\n",
    "\n",
    "<img alt=\"dreamfusion-demo\" height=\"600\" src=\"./images/3-3_1-dreamfusion-demo.gif\" width=\"700\"/>\n",
    "\n",
    "跟显示的表征方法对比，可以看到质量有明显的提升，但是质量还远未到真正可以用的地步。\n",
    "\n"
   ],
   "metadata": {
    "collapsed": false
   }
  },
  {
   "cell_type": "markdown",
   "source": [
    "## 1-2 Zero123"
   ],
   "metadata": {
    "collapsed": false
   }
  },
  {
   "cell_type": "markdown",
   "source": [],
   "metadata": {
    "collapsed": false
   }
  },
  {
   "cell_type": "code",
   "execution_count": null,
   "outputs": [],
   "source": [],
   "metadata": {
    "collapsed": false
   }
  }
 ],
 "metadata": {
  "kernelspec": {
   "display_name": "Python 3",
   "language": "python",
   "name": "python3"
  },
  "language_info": {
   "codemirror_mode": {
    "name": "ipython",
    "version": 2
   },
   "file_extension": ".py",
   "mimetype": "text/x-python",
   "name": "python",
   "nbconvert_exporter": "python",
   "pygments_lexer": "ipython2",
   "version": "2.7.6"
  }
 },
 "nbformat": 4,
 "nbformat_minor": 0
}
